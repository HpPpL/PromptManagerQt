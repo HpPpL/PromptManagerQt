{
  "nbformat": 4,
  "nbformat_minor": 0,
  "metadata": {
    "colab": {
      "provenance": []
    },
    "kernelspec": {
      "name": "python3",
      "display_name": "Python 3"
    },
    "language_info": {
      "name": "python"
    }
  },
  "cells": [
    {
      "cell_type": "code",
      "execution_count": 1,
      "metadata": {
        "id": "C3L92uDQqrej"
      },
      "outputs": [],
      "source": [
        "import json\n",
        "import time\n",
        "\n",
        "import requests\n",
        "\n",
        "class FusionBrainImageGenerator():\n",
        "    def __init__(self, url, api_key, secret_key):\n",
        "        self.URL = 'https://api-key.fusionbrain.ai/' if url is None else url\n",
        "        self.AUTH_HEADERS = {\n",
        "            'X-Key': f'Key {api_key}',\n",
        "            'X-Secret': f'Secret {secret_key}',\n",
        "        }\n",
        "\n",
        "    def get_model(self):\n",
        "        response = requests.get(self.URL + 'key/api/v1/models', headers=self.AUTH_HEADERS)\n",
        "        data = response.json()\n",
        "        print(data)\n",
        "        return data[0]['id']\n",
        "\n",
        "    def generate(self, prompt, model, images=1, width=1024, height=1024):\n",
        "        prompt = prompt if len(prompt) <= 1000 else prompt[:1000]\n",
        "        params = {\n",
        "          \"type\": \"GENERATE\",\n",
        "          \"numImages\": images,\n",
        "          \"width\": width,\n",
        "          \"height\": height,\n",
        "          \"generateParams\": {\n",
        "            \"query\": f\"{prompt}\"\n",
        "          }\n",
        "        }\n",
        "\n",
        "        data = {\n",
        "          'model_id': (None, model),\n",
        "          'params': (None, json.dumps(params), 'application/json')\n",
        "        }\n",
        "        response = requests.post(self.URL + 'key/api/v1/text2image/run', headers=self.AUTH_HEADERS, files=data)\n",
        "        data = response.json()\n",
        "        return data['uuid']\n",
        "\n",
        "    def check_generation(self, request_id, attempts=10, delay=10):\n",
        "        while attempts > 0:\n",
        "            response = requests.get(self.URL + 'key/api/v1/text2image/status/' + request_id, headers=self.AUTH_HEADERS)\n",
        "            data = response.json()\n",
        "            if data['status'] == 'DONE':\n",
        "                return data['images']\n",
        "\n",
        "            attempts -= 1\n",
        "            time.sleep(delay)\n"
      ]
    },
    {
      "cell_type": "code",
      "source": [
        "fisrt_generator = FusionBrainImageGenerator('https://api-key.fusionbrain.ai/', '417F8B03672CC237125684CF0A6B8AE8', '3E84352E3786AC8BED16D88B45CE5EEC')"
      ],
      "metadata": {
        "id": "jz3BbQCbuLMb"
      },
      "execution_count": 2,
      "outputs": []
    },
    {
      "cell_type": "markdown",
      "source": [
        "Модели:"
      ],
      "metadata": {
        "id": "NFDrvP46u9KX"
      }
    },
    {
      "cell_type": "code",
      "source": [
        "model_id  = fisrt_generator.get_model()\n",
        "print(model_id)"
      ],
      "metadata": {
        "colab": {
          "base_uri": "https://localhost:8080/"
        },
        "id": "hZs75cctu8oJ",
        "outputId": "fafe9e79-3293-47f7-ab61-a7cd2a425e47"
      },
      "execution_count": 3,
      "outputs": [
        {
          "output_type": "stream",
          "name": "stdout",
          "text": [
            "[{'id': 4, 'name': 'Kandinsky', 'version': 3.0, 'type': 'TEXT2IMAGE'}]\n",
            "4\n"
          ]
        }
      ]
    },
    {
      "cell_type": "markdown",
      "source": [
        "Запускаем процесс"
      ],
      "metadata": {
        "id": "Dx7Pi-LnwzvH"
      }
    },
    {
      "cell_type": "code",
      "source": [
        "try:\n",
        "    os.chdir('/content')\n",
        "except:\n",
        "    print(\"Already in folder\")\n",
        "\n",
        "with open('promts.txt', 'r', encoding='utf-8') as fin:\n",
        "    promts = fin.readlines()"
      ],
      "metadata": {
        "id": "cQg1xWWK7wl1",
        "colab": {
          "base_uri": "https://localhost:8080/"
        },
        "outputId": "17109822-ce54-4c28-ecf2-9b46f6ada051"
      },
      "execution_count": 4,
      "outputs": [
        {
          "output_type": "stream",
          "name": "stdout",
          "text": [
            "Already in folder\n"
          ]
        }
      ]
    },
    {
      "cell_type": "code",
      "source": [
        "import os\n",
        "os.mkdir('Fusion_brain_results')"
      ],
      "metadata": {
        "id": "vVa5KRe48ZS0"
      },
      "execution_count": 5,
      "outputs": []
    },
    {
      "cell_type": "code",
      "source": [
        "try:\n",
        "    os.chdir('Fusion_brain_results')\n",
        "except:\n",
        "    print(\"Already in folder\")"
      ],
      "metadata": {
        "id": "dJGUf9k28qnw"
      },
      "execution_count": 6,
      "outputs": []
    },
    {
      "cell_type": "code",
      "source": [
        "# check yourself\n",
        "os.getcwd()"
      ],
      "metadata": {
        "colab": {
          "base_uri": "https://localhost:8080/",
          "height": 35
        },
        "id": "eCHmBJHm9A6d",
        "outputId": "d4953d1d-dd14-4893-cb67-09e4a1676927"
      },
      "execution_count": 7,
      "outputs": [
        {
          "output_type": "execute_result",
          "data": {
            "text/plain": [
              "'/content/Fusion_brain_results'"
            ],
            "application/vnd.google.colaboratory.intrinsic+json": {
              "type": "string"
            }
          },
          "metadata": {},
          "execution_count": 7
        }
      ]
    },
    {
      "cell_type": "code",
      "source": [
        "import io, base64\n",
        "from PIL import Image\n",
        "\n",
        "uuids = []\n",
        "\n",
        "for promt in promts:\n",
        "    # for every promt generate two varinants of image. Summary 300 images\n",
        "    uuids.append(fisrt_generator.generate(str(0) + '. ' + promt, model_id))\n",
        "    uuids.append(fisrt_generator.generate(str(1) + '. ' + promt, model_id))\n",
        "\n",
        "print(uuids)\n",
        "\n",
        "# get 300 encoded images\n",
        "images = [fisrt_generator.check_generation(uuid) for uuid in uuids]\n",
        "\n",
        "# get 300 decoded images\n",
        "imgs = [Image.open(io.BytesIO(base64.decodebytes(bytes(image[0], \"utf-8\")))) for image in images]\n",
        "\n",
        "for i in range(len(imgs)):\n",
        "    imgs[i].save(f'{str(i // 2 + 1)}-{str(i % 2 + 1)}.png')"
      ],
      "metadata": {
        "colab": {
          "base_uri": "https://localhost:8080/"
        },
        "id": "a7KZrJVPwxzZ",
        "outputId": "bc3e7fb9-c670-4165-be58-4be9a6e89460"
      },
      "execution_count": 8,
      "outputs": [
        {
          "output_type": "stream",
          "name": "stdout",
          "text": [
            "['9a54fed7-c6f3-421f-99ed-336a3df4492b', '4d9adfd4-ba4c-4129-8433-8a97bb437f04', '2bc740e6-16d1-4f84-b14a-cfd1f12bf1ab', '41420106-8f75-4b13-820d-f9ab4333a542', '6a9b02f9-3405-487a-8682-5f065c250fb4', '4d58506d-0bdb-48ce-bf33-f6149c18dab2', '61e28aac-4fea-410a-be73-134ed1d0cd4c', '7d76b3fe-340e-4784-b72f-8777ecb86d47', 'b0a07de6-e3dd-451a-90c1-aeda6e66d9b6', '9a3d01f2-fde7-4def-b8f9-12e770f6940f', '50364db8-16fb-4072-a2e1-86f74ea70fb0', 'd924ce4e-9376-435a-aab2-403a8d30c3fd', '3ad89c94-71dc-4f18-bb54-525db0fda0e8', '98310019-a799-490d-b6ca-9cf2525c4604', '84e38156-2e6d-494e-8882-3eeb6bcbc9bc', '0a4609f8-98cf-4562-ab9b-ea92e3a25f7f', '88e9d903-a680-4c84-84d5-a2ad41a3caaa', '41a5725e-01c0-4e0a-a34c-52ef23586be0', 'a42faaa6-a433-493b-9900-c2bb6792efbb', 'c0d59803-2e38-4338-a22d-6acd429c34d5', '7edd33d9-4edd-4bc5-b464-32d07daae568', 'b666cf08-c4c7-4900-b842-420c2f4176e2', 'ef218765-df19-4561-9d11-9de17676b94e', 'd3a3632b-1b0d-4fb7-af47-5062d3a43365', 'a409e8b3-a859-4765-a88f-16b700383068', '0450ba52-72ad-4c13-b9bc-6f236bba10fa', '4f9e3e24-48f7-4667-8661-9b2c98368c25', 'b4597b1c-80b9-40ab-a075-59db8836f383', '2a3af9dc-4fa0-441f-8749-1f1c5ec410bb', '2b903f79-6c37-40d6-969f-7d27b751168c', '2d41ef16-d4e7-47fc-8d2e-3962ff2deb30', '8fd4c891-2a71-45e2-b50e-9fb9928ed6c3', '2e1c0c40-ca38-4e97-82db-b1794468eb4a', '827b3cd5-1589-4fc4-be35-66e3a178dd3c', '1e69f7e8-083a-4494-b6a1-45addf298646', 'db2c6b3d-7d12-4f27-a6b2-4c553e5b6390', '8fa20ec3-100d-486b-83bb-c5200211ab8f', '0fbffcc3-c071-4fb0-a381-47d05b54ffd2', '4f567e09-8613-4209-9b9c-0d4db744d3fa', '9f6f768b-6675-4bf0-8de3-d29c651b9663', 'f42733ac-6a38-4729-9c21-9433ff01063a', 'b0fff73b-ece0-4da7-b6f7-a55c7d61ac1a', '15793d03-6b44-483c-8af8-e4805b07cc99', '2a13e56a-3a7a-4810-ba1b-3cdb57ba0041', 'b7a70405-108e-429e-948f-334df60a1d59', '82aa19b5-52b2-40ed-8c48-40f307dcda05', '4b149c87-b42b-4c6d-8a79-eb7069f97e06', 'b6bb9bed-cfa8-49ca-865f-e1fb4d74bfaa', 'bfa4c235-9f07-46e1-a687-fb67291c7ab2', '755d7d66-437c-47ef-bee1-e8ae88e001e2', 'f0577d22-6764-4f0a-92c3-5f066e319ac0', 'd0715fd0-9490-431e-9c32-0f01514161df', '7e8c944d-dbb6-453c-8c58-1207440c3cc6', '2117ee4f-bf90-43cf-8808-89291caaf840', '5e66b562-91b1-41b5-88ab-a0e8c6fe3a19', '8cbbcc00-3610-4a6f-8c8a-e37c7f2dc740', '37747f64-0034-42d4-b476-e7a227f85085', '22610042-ce01-421c-bd1c-62738346bdde', '3bde9867-3444-49f4-ba81-add75f5ddb95', '1079434b-270d-4545-99d8-a80904e53bd2', '786e4940-2555-4969-9830-fb60422dc915', '3f46fe4a-d2ba-4c94-9a20-2e48d21249c6', '85b2cc49-3a5c-4788-bc2f-41086e721d98', '58b08fc2-4577-4b58-bf71-d34fc33d52f9', '045f3ae2-e680-4d3e-98ec-134e714f2fc8', '01607b0d-125c-4ee5-a361-a7e1045e95a6', 'a34aa7e4-109a-44dd-8c79-e42089cb3b00', '71958dda-20d8-4d57-9ca1-2ba9afdeb12b', '0cff0444-4e36-4851-86ab-4e4e0617ab53', '7216047c-7f18-4b5c-ba63-27b918c04dad', 'eca066a4-3bd1-4088-9712-b5f5cf8bb241', 'b036a57f-81db-44cc-a1f4-57c38100e133', '55f0f5f2-1b44-4ea6-bd23-63bcb95f3380', '5b169274-50ac-48c8-86bf-d1eb2954937c', '90b5338f-5b33-4598-9ebd-d01680dbba83', '2953c5fe-06ee-4f5a-8562-6608b4617f54', '2d728cce-a7b2-43e0-b390-c37020005e52', '933380fe-06d8-45bf-8e62-5523763cd644', 'c7a3306c-0d76-49dd-a96d-9806733f2ac9', 'f04463c9-8fb8-4ceb-b76e-0b6c1ecd6e52', 'cfd6db94-4ccc-4db6-bf1a-4bee67a69d88', 'f5701c31-612a-4f49-a9ee-97e276462219', '00157341-e094-4a3c-861a-621c0b106861', '040133f9-f012-4650-8b76-ed1a18293b0b', '3ecff581-0285-431e-935c-3730d1556f7a', '586393e0-c6f9-438a-875a-9a2ac60a13ae', 'e0d8c0cf-51c6-4f81-9068-dad9ef3f77f2', '1b06cc64-dd4b-4562-84c1-70ea05c8c71d', '48018401-d699-4a0b-a667-616c930d4826', '11e2af2e-edaa-4820-8258-984ace81cfe5', '5578586e-9e01-49ae-92ae-ca5d46a2b600', '55c9acb4-23dc-4274-969b-24c898cc3568', 'a4251337-a163-49db-88d3-7af9880a4b48', '3ff6503b-8891-47b7-8047-c1b0f73418ce', '538df172-69dd-4df3-9147-ac25c11b2e22', '23f52012-29cc-48fd-8cc2-9725737bafd5', 'c724a7a0-1f74-450b-933e-f29aed7b04ef', '0632b605-57a8-445c-ae5a-317e3a611abc', '77fa5c32-04db-4cb0-922f-35eb2297874c', '956f3c88-8bfa-42c0-bbc8-e826a045545b', 'a29cbf77-d339-470f-8df0-e18a68f3c29d', '00e7c2ef-ae7e-49f7-b1e2-1aaa9ab53260', '6d9f12ec-c939-49e8-be37-5fe73a9e82f3', 'b132ceed-426b-4056-8faa-add5a06e1f25', '4d6c41a6-69ce-444e-b7ca-c00f49f2ceee', 'a068bd6a-248c-4c09-aedb-0a3d0f5330df', 'c4f31822-5cd1-41fe-aa82-525f1574aab5', '767df183-5dd4-4341-9fe5-57b89e47afbc', '4935369d-0c3e-43a6-a12a-baef9d8a60b6', '8b99cf94-db95-4a46-8949-df94b98e0c90', '41a6e212-6765-4939-abc2-41f5ea49a6c3', 'ba2f4570-e72a-4d6d-824a-5e55146d00b1', '5fae1757-9b5d-48cb-8483-e3af5823b091', '04b6ee2e-422d-48eb-99c2-2f94c78cb5c2', '0a9d9cc3-8cc9-49d1-baf2-6be32d470fb3', '9aa300c5-3236-4d1f-8735-75bd5c8a906e', 'd8c1f1f2-f3f4-420b-bafd-2a2b38cf32c2', 'e0d69220-983e-497c-9d56-63daf9ccf80b', '2f56564c-0f87-400d-b331-d7a3493e3de4', '48be591b-183c-4b32-b608-016f41ec067b', '78338aa9-4564-4c89-9d9d-ceda74a0095d', 'a40bbd50-d9cf-4e41-a24e-4d9e945bcbf6', '1312b528-76dd-4a44-a28f-edba8c533646', '5f8aba52-4971-4e93-b96d-38c485b10d1a', '2ef1272c-fd89-441d-a74a-9012dd703b2e', 'afd491b6-ebf4-4a4a-aef3-a8533f21c3c6', '981589aa-7e94-4599-9d60-89b9c9d65a82', '19f02049-c938-4744-b2d3-0ff1adffd307', '9fcf43f7-9b14-4e49-9328-945c4a4bf41a', 'c5fc3fe1-a8b7-4caa-ba2e-d0215f0f12c0', '1c950e9a-707b-4680-9888-a5aca2f2ef9b', '1318bae5-e5a8-4ad5-b89b-3d8a2d537155', 'd7eb884f-78e6-44ca-8c24-dd216c0e35a8', '361bc32c-7a5e-4fc5-80d1-a0a3175c124f', 'c1bd07a3-9bee-466a-bedc-9fc761354153', 'a6f0f76d-e8f9-4d3a-ba78-2e18b6db5929', '184bf683-6aa8-41e5-8523-79bbd0a13435', '0d91bf45-7188-4db4-a11f-a9c0ed509226', '322e60fc-d09a-4942-98bc-d4daf9c14b43', '3039f736-5730-47df-83a1-723b4e51c34b', 'f3704a07-f57b-44b7-a278-d418f195bbac', '8af3186b-2eb0-4574-acf8-c4ad8c962287', 'd47639f2-841f-4d08-b027-8a4489d9f1e4', '485a266a-1790-46b3-a688-da87044aadea', '71616838-dfc4-49b8-b9af-81ae839a5eab', 'e8689c20-0a3a-433d-b49d-4df6c18f0c4f', 'e603072c-55bb-405c-a914-73696ece831a', '7f3fac9c-4cd0-402a-9803-c09f589774cf', '8fab1eb9-e7c2-495a-87f8-3f752e31c957', '276f5233-46bd-4570-84f7-c81e20c7e396', 'e6171652-2bd4-4b7b-ac79-e9dea3e66b67', '873754ed-c312-46b2-af52-e4cfa0cddafc', '4c48785f-1f8e-40e3-a372-4872bd6e11eb', '68bc4721-de95-4988-9d66-3f98472cac15', '442efbd9-e39b-4084-8cec-44e9b18a47ad', '924eec5f-aa53-41a5-bd80-969ae82ac3dd', '3e591b19-eaa8-4944-bc1c-4afd30d84f07', '0f90011b-10ab-4e15-9b76-dc7660a2bbf0', 'd913cc5a-84a3-4710-9fd8-7bb8373838d6', '17d8d249-098d-4ef1-a764-7de2ae2377da', '2e8ed2b3-94b4-42c8-8ca8-67ed90aeacfb', '0b1ac365-d1ca-4cb2-849b-80428bc7a36e', '05b1b53c-80a4-413b-9e68-85a213915949', 'fd4a60c8-0d26-450f-96b0-a0fdbb23323c', '353bdc83-cd8b-44a9-996d-792db6813590', 'c87931ed-5398-4fac-9799-0e77a63c790b', '7918a35c-7b7f-43e4-a462-1eff4ea8268d', '630bba8a-b31d-41cc-96df-f1d5e0aa3abf', '5b33c82f-a509-44d6-893b-86b0363d3caf', '38f882d0-da91-456f-9175-cfddf4e7435a', 'ac65bafb-1288-4da4-9dc7-5bd35a36c5c2', '7a491026-7e55-4862-a19e-1bc797e62d02', '140c374a-bdb0-42c8-8297-aa31ce34b104', '77f999a4-3ca5-4c20-a36f-410e45d9a630', '8c0bb63a-3de6-4a4c-9c00-b6a6e471e2bb', '9f5423ce-bad8-435c-a7b6-17a45c670cd3', '30b6d163-f329-4000-b969-148065827f97', 'd547a7a3-686f-41b5-9a89-d558eae10944', '2b54e2d1-e94e-4ccb-9804-12aa0da4fffa', 'ab760c52-cde3-4e30-b924-2d6b589d34e4', '380d8a48-d3c5-4ef5-a6f1-f53d1c184d70', 'f7a5f959-6d2b-45b3-86ff-92f6eae02036', 'e6aa8dc8-22ad-43e7-95e8-b965e2b7029f', '981bbe53-e778-4c70-84aa-1101abce683d', '3d02d523-b024-43ed-9425-f91fd694787b', 'c148bfbc-52c0-4b03-9816-2ae45dcbeb22', '9c959c77-00c9-45b6-bc1d-d9d72f16fd0f', '69307c20-36a4-4e62-9f33-1b304fe26d50', 'd602ba15-22ec-40c7-a3ea-c4cb18f7e9db', 'db285b2d-d495-44a6-a6cf-e0dbcafa5518', '2114ea2c-483b-4f69-85a0-5f2776b082cb', 'bf3fc1be-ceaf-4922-bf14-aecf066c923e', 'd7854303-7984-4598-bdcd-13b3eaeabda8', 'ed4bd483-ec00-4204-acea-2b69c8fcaf03', 'b7b65f3a-9350-494e-9b48-cb14896e6bb1', 'dfcb64c9-f4a5-44e3-8551-9be459195fb4', 'ce239153-a79b-4a89-928b-e7bd6b9ed441', 'c75022fc-bf7b-4fea-8d84-d4607726c56e', 'ed7feb80-dcd6-432f-bf4c-f9a09395d29d', '5fcb4edc-fb1e-45b0-8d35-c7966132ed00', '58788995-73fe-438e-b2d9-06828808e53a', '6ad37a2a-47bf-44c6-8bfb-6df117e13821', '5c4fca5e-f463-462e-bcb4-6f947b5e60bb', '3e55eaaf-2c98-4dc4-936a-40702c8b7ac4', '33bb9385-4bac-4b39-a1e2-14336ea5c9f5', 'a675a914-47ed-4753-9839-792f0007be54', '0c2ff04e-f29b-4cc6-b283-adfb031db7b9', 'fab25bee-58d2-49e8-a5c4-f32b6744ecb7', '26b1e768-207e-4724-bdd9-1766f16b4293', 'b0c0a511-3fb3-4d4b-84d5-a59711453fc7', '24d5c917-5850-429e-bdbc-9d19b22be9e2', '788e691b-4a0a-47d5-ad32-bf80573fb21e', 'd8f8d25c-5608-4458-b718-dfe494568bc9', 'e086227e-462a-40a4-924e-1a131de424e2', '45b1780a-9bdb-4191-82cd-a3cd4176e8d9', '2d95048c-0d11-4376-a588-c5244857b638', '51376e89-846a-4945-9093-b07c39b4da26', '6e0660b4-41af-4b29-a6b2-92e1ad8f239b', '493187ee-f0e3-427a-a79e-85f8b89fe6d4', '1db5a58f-b424-4a99-8807-9dd58858d834', 'f947480d-6d6d-4622-b99c-9aa4d51d0a26', '7be752c0-933d-4f6a-b919-044cd0542f51', 'c8b903a4-669d-4650-a84c-aa24c5c1f9f5', '4f9cd54a-085d-4406-908c-9ad16a726534', '04362a39-35c3-4250-b30e-6f89873c8570', 'b4cf4d4b-05ba-4367-9db6-5799b600fecb', 'a5005c43-7a4e-45f6-a9ed-488724c657e4', 'd18eb82b-cc26-4164-b55d-e43eb84c71dd', 'd16ecf45-3220-42aa-9249-f382742d853e', 'daaf4259-41b5-42ef-bfb5-4d4d09aa049a', '652aa74f-c130-4800-b6e0-50366f8e5e58', 'eb35ae05-9407-4185-bfd7-caa565714209', 'c9fe2370-43f4-478e-b82b-8a3820490943', '340e8893-6185-4cba-8b32-2930db740061', '244ab6a4-0c36-48e2-9b5e-bef338e001d8', '63326fe6-70e9-4513-a0b7-0cccfa95dcb4', '05619992-a8d7-467d-9201-6ba94f7b2472', 'eeae9a9d-7589-4c4e-9917-58c20540dad8', '9b8c3771-48a7-4a36-84c9-0b8c927e6f3b', '2559c058-3701-4dad-8c1e-54b3d0bef2da', '343c5174-8723-40bc-9bf9-c9a50161bfc6', '81134542-0021-4790-9d56-de3e52f5b071', '9cdb30f7-4ce8-4b5f-98c4-fa2b623772be', '257f778e-143d-40bf-8d0d-5868dfcb1853', '46feb978-d86b-4d37-8c2b-8d8338801064', '8aebc624-a480-4300-afdb-d7016b342d42', 'b276028a-79b2-46a7-8f82-d8dcc373f3ae', '84483c9a-e839-488a-a5fe-7f3f79bb9f7e', 'e9444669-0e91-422f-8afb-51e9bcb79983', '4ad70615-4f0c-483f-94df-b50461a6b3a7', 'bc5503dd-e08a-45c7-89e6-e822754fe0d4', 'ca2be27b-a7f9-4ce3-a1a9-7d5558597e9c', 'a8902c05-db40-4d21-b424-b47450b40866', '903db9d7-c766-4ff7-aa32-56d07c0daafc', '16fca4a1-af28-47f7-85d4-f23c87505db9', '10b9219e-58dc-4e94-af60-a3978b64f9e6', 'f56dd73a-23a3-4679-81fe-f45fd514c8e3', 'bba465fd-c1f5-4c11-947f-48bc6425c6ee', 'cf4cd838-a58b-4011-a583-8c46e2601db2', 'b44d118f-5a7c-4654-aef6-814aa23b4c11', 'e38c7abf-fae9-44b5-84d7-6e406ae7cf9e', '24040ad5-4747-403d-94d5-3642cfdeb6ef', '49345de6-a517-412e-b71c-4fb217d7d5dc', '765ff88d-d45b-4fae-86aa-b536ac9d4a5d', '27d85e1d-bb31-40e2-9d66-39e937f5cb6a', 'a801cddd-f4d0-4ff3-9b0b-fa1ff3c10e46', 'a4e1a143-d484-4655-b6c3-1c384b58a28d', 'fc7e7bb1-2275-4445-af5c-c8578097a853', '5654ae3f-9cfd-403b-9f17-4d1ab6aa9c62', 'c6d89a02-566a-40f3-9c34-6848b72dde6b', 'a511672a-7b0d-412c-8456-56babf326fa4', 'd00cdf0a-467b-448e-804f-b22015a186cf', '1d799504-b744-4094-8d48-e6ce2643d43c', '8c2670ef-93be-40ab-992f-deb8c2a4dff3', 'cbad3dfb-ff51-4393-aa40-f2748d1415fc', '6b72eaa4-02f4-4830-a4a9-3b1ee57e7d2b', '0d5a0e24-fa56-4c3c-a933-b6a431e250e0', 'a2b0578d-7808-41a0-9927-50afb6826d9d', 'c8d756b7-8070-4aec-a11d-8bdb925bad14', 'a25c4147-b53d-4fee-945b-c2481f470206', '2a855e23-7d1f-4896-9cda-4ef24f8de1d8', '100ee910-4aef-4c39-8f19-dc8c37b78427', 'f9004e3a-e684-4428-95b1-841a4d64af5a', 'ad0cc12a-643d-4b39-b873-1195d346a82d', '0dba9b5a-75ff-44cf-8296-39609ce26aea', 'e5248368-3a47-4283-a2d3-40ef702278a5', 'c86113cb-d9dc-4071-bf8e-2b5f67f6da1e', '1bc7919d-7b87-4871-ac26-d4874e4d21bb', '3e623976-3b38-4b09-8e40-ad9febb94618', '5ade4f4c-8e5e-423b-9282-c85111e22f5f', '6a05cbed-0b40-4495-b428-7078b3ddea52', 'a9742b3a-4291-418b-a3e1-b4e6edc52236', 'e14e63ea-dee4-4900-a90d-d1ae22294b5f', 'a8ca90f9-a1cb-40b1-8f70-570d5e0c0987', 'a77b8b66-4f61-47e9-8b79-15dbd8f5a401', '614a054a-5eac-49eb-a3b3-6dfae642301a', 'be77a61d-7016-4947-8fb0-b3107a2bf796', '27c0287a-b0a7-4350-b4a1-2e4d6183af8f', 'b83cef52-35ea-4f1c-9924-9e3db90636ea', '18d5cca8-a8c7-4ad9-91a4-ebacba90bb90']\n"
          ]
        }
      ]
    },
    {
      "cell_type": "code",
      "source": [
        "os.getcwd(\n",
        "\n",
        ")"
      ],
      "metadata": {
        "colab": {
          "base_uri": "https://localhost:8080/",
          "height": 35
        },
        "id": "CJgozIUKFlhb",
        "outputId": "de287459-d099-4fbf-c24f-1996d77401fa"
      },
      "execution_count": 9,
      "outputs": [
        {
          "output_type": "execute_result",
          "data": {
            "text/plain": [
              "'/content/Fusion_brain_results'"
            ],
            "application/vnd.google.colaboratory.intrinsic+json": {
              "type": "string"
            }
          },
          "metadata": {},
          "execution_count": 9
        }
      ]
    },
    {
      "cell_type": "code",
      "source": [
        "!zip -r '/content/Fusion_brain_results.zip' '/content/Fusion_brain_results'"
      ],
      "metadata": {
        "colab": {
          "base_uri": "https://localhost:8080/"
        },
        "id": "5H66Ogs7FkwB",
        "outputId": "9a68a823-58b4-40ac-96b1-f6e77ee031ce"
      },
      "execution_count": 10,
      "outputs": [
        {
          "output_type": "stream",
          "name": "stdout",
          "text": [
            "  adding: content/Fusion_brain_results/ (stored 0%)\n",
            "  adding: content/Fusion_brain_results/41-2.png (deflated 0%)\n",
            "  adding: content/Fusion_brain_results/111-1.png (deflated 0%)\n",
            "  adding: content/Fusion_brain_results/114-2.png (deflated 0%)\n",
            "  adding: content/Fusion_brain_results/56-2.png (deflated 0%)\n",
            "  adding: content/Fusion_brain_results/75-2.png (deflated 0%)\n",
            "  adding: content/Fusion_brain_results/148-1.png (deflated 0%)\n",
            "  adding: content/Fusion_brain_results/71-1.png (deflated 0%)\n",
            "  adding: content/Fusion_brain_results/130-1.png (deflated 0%)\n",
            "  adding: content/Fusion_brain_results/15-2.png (deflated 0%)\n",
            "  adding: content/Fusion_brain_results/36-2.png (deflated 0%)\n",
            "  adding: content/Fusion_brain_results/47-1.png (deflated 0%)\n",
            "  adding: content/Fusion_brain_results/60-2.png (deflated 0%)\n",
            "  adding: content/Fusion_brain_results/26-2.png (deflated 0%)\n",
            "  adding: content/Fusion_brain_results/56-1.png (deflated 0%)\n",
            "  adding: content/Fusion_brain_results/17-2.png (deflated 0%)\n",
            "  adding: content/Fusion_brain_results/47-2.png (deflated 0%)\n",
            "  adding: content/Fusion_brain_results/50-1.png (deflated 0%)\n",
            "  adding: content/Fusion_brain_results/112-2.png (deflated 0%)\n",
            "  adding: content/Fusion_brain_results/61-1.png (deflated 0%)\n",
            "  adding: content/Fusion_brain_results/16-1.png (deflated 0%)\n",
            "  adding: content/Fusion_brain_results/69-2.png (deflated 0%)\n",
            "  adding: content/Fusion_brain_results/2-1.png (deflated 0%)\n",
            "  adding: content/Fusion_brain_results/24-2.png (deflated 0%)\n",
            "  adding: content/Fusion_brain_results/27-2.png (deflated 0%)\n",
            "  adding: content/Fusion_brain_results/84-2.png (deflated 0%)\n",
            "  adding: content/Fusion_brain_results/67-1.png (deflated 0%)\n",
            "  adding: content/Fusion_brain_results/45-1.png (deflated 0%)\n",
            "  adding: content/Fusion_brain_results/30-2.png (deflated 0%)\n",
            "  adding: content/Fusion_brain_results/89-1.png (deflated 0%)\n",
            "  adding: content/Fusion_brain_results/142-2.png (deflated 0%)\n",
            "  adding: content/Fusion_brain_results/77-2.png (deflated 0%)\n",
            "  adding: content/Fusion_brain_results/10-1.png (deflated 0%)\n",
            "  adding: content/Fusion_brain_results/93-2.png (deflated 0%)\n",
            "  adding: content/Fusion_brain_results/108-2.png (deflated 0%)\n",
            "  adding: content/Fusion_brain_results/43-1.png (deflated 0%)\n",
            "  adding: content/Fusion_brain_results/143-2.png (deflated 0%)\n",
            "  adding: content/Fusion_brain_results/46-2.png (deflated 0%)\n",
            "  adding: content/Fusion_brain_results/57-1.png (deflated 0%)\n",
            "  adding: content/Fusion_brain_results/79-2.png (deflated 0%)\n",
            "  adding: content/Fusion_brain_results/120-2.png (deflated 0%)\n",
            "  adding: content/Fusion_brain_results/13-2.png (deflated 0%)\n",
            "  adding: content/Fusion_brain_results/16-2.png (deflated 0%)\n",
            "  adding: content/Fusion_brain_results/66-2.png (deflated 0%)\n",
            "  adding: content/Fusion_brain_results/9-2.png (deflated 0%)\n",
            "  adding: content/Fusion_brain_results/19-1.png (deflated 0%)\n",
            "  adding: content/Fusion_brain_results/55-2.png (deflated 0%)\n",
            "  adding: content/Fusion_brain_results/4-1.png (deflated 0%)\n",
            "  adding: content/Fusion_brain_results/57-2.png (deflated 0%)\n",
            "  adding: content/Fusion_brain_results/10-2.png (deflated 0%)\n",
            "  adding: content/Fusion_brain_results/54-2.png (deflated 0%)\n",
            "  adding: content/Fusion_brain_results/111-2.png (deflated 0%)\n",
            "  adding: content/Fusion_brain_results/138-1.png (deflated 0%)\n",
            "  adding: content/Fusion_brain_results/74-2.png (deflated 0%)\n",
            "  adding: content/Fusion_brain_results/49-2.png (deflated 0%)\n",
            "  adding: content/Fusion_brain_results/78-2.png (deflated 0%)\n",
            "  adding: content/Fusion_brain_results/65-1.png (deflated 0%)\n",
            "  adding: content/Fusion_brain_results/144-2.png (deflated 0%)\n",
            "  adding: content/Fusion_brain_results/126-2.png (deflated 0%)\n",
            "  adding: content/Fusion_brain_results/18-2.png (deflated 0%)\n",
            "  adding: content/Fusion_brain_results/81-1.png (deflated 0%)\n",
            "  adding: content/Fusion_brain_results/131-2.png (deflated 0%)\n",
            "  adding: content/Fusion_brain_results/83-1.png (deflated 0%)\n",
            "  adding: content/Fusion_brain_results/92-2.png (deflated 0%)\n",
            "  adding: content/Fusion_brain_results/2-2.png (deflated 0%)\n",
            "  adding: content/Fusion_brain_results/58-1.png (deflated 0%)\n",
            "  adding: content/Fusion_brain_results/117-1.png (deflated 0%)\n",
            "  adding: content/Fusion_brain_results/46-1.png (deflated 0%)\n",
            "  adding: content/Fusion_brain_results/146-1.png (deflated 0%)\n",
            "  adding: content/Fusion_brain_results/115-1.png (deflated 0%)\n",
            "  adding: content/Fusion_brain_results/102-1.png (deflated 0%)\n",
            "  adding: content/Fusion_brain_results/63-2.png (deflated 0%)\n",
            "  adding: content/Fusion_brain_results/144-1.png (deflated 0%)\n",
            "  adding: content/Fusion_brain_results/73-2.png (deflated 0%)\n",
            "  adding: content/Fusion_brain_results/88-1.png (deflated 0%)\n",
            "  adding: content/Fusion_brain_results/68-1.png (deflated 0%)\n",
            "  adding: content/Fusion_brain_results/87-1.png (deflated 0%)\n",
            "  adding: content/Fusion_brain_results/113-2.png (deflated 0%)\n",
            "  adding: content/Fusion_brain_results/24-1.png (deflated 0%)\n",
            "  adding: content/Fusion_brain_results/142-1.png (deflated 0%)\n",
            "  adding: content/Fusion_brain_results/22-2.png (deflated 0%)\n",
            "  adding: content/Fusion_brain_results/58-2.png (deflated 0%)\n",
            "  adding: content/Fusion_brain_results/125-2.png (deflated 0%)\n",
            "  adding: content/Fusion_brain_results/14-2.png (deflated 0%)\n",
            "  adding: content/Fusion_brain_results/139-1.png (deflated 0%)\n",
            "  adding: content/Fusion_brain_results/140-1.png (deflated 0%)\n",
            "  adding: content/Fusion_brain_results/86-1.png (deflated 0%)\n",
            "  adding: content/Fusion_brain_results/50-2.png (deflated 0%)\n",
            "  adding: content/Fusion_brain_results/82-1.png (deflated 0%)\n",
            "  adding: content/Fusion_brain_results/31-2.png (deflated 0%)\n",
            "  adding: content/Fusion_brain_results/110-1.png (deflated 0%)\n",
            "  adding: content/Fusion_brain_results/97-1.png (deflated 0%)\n",
            "  adding: content/Fusion_brain_results/86-2.png (deflated 0%)\n",
            "  adding: content/Fusion_brain_results/110-2.png (deflated 0%)\n",
            "  adding: content/Fusion_brain_results/89-2.png (deflated 0%)\n",
            "  adding: content/Fusion_brain_results/29-2.png (deflated 0%)\n",
            "  adding: content/Fusion_brain_results/52-1.png (deflated 0%)\n",
            "  adding: content/Fusion_brain_results/70-1.png (deflated 0%)\n",
            "  adding: content/Fusion_brain_results/52-2.png (deflated 0%)\n",
            "  adding: content/Fusion_brain_results/130-2.png (deflated 0%)\n",
            "  adding: content/Fusion_brain_results/43-2.png (deflated 0%)\n",
            "  adding: content/Fusion_brain_results/68-2.png (deflated 0%)\n",
            "  adding: content/Fusion_brain_results/94-2.png (deflated 0%)\n",
            "  adding: content/Fusion_brain_results/45-2.png (deflated 0%)\n",
            "  adding: content/Fusion_brain_results/145-2.png (deflated 0%)\n",
            "  adding: content/Fusion_brain_results/101-1.png (deflated 0%)\n",
            "  adding: content/Fusion_brain_results/55-1.png (deflated 0%)\n",
            "  adding: content/Fusion_brain_results/95-1.png (deflated 0%)\n",
            "  adding: content/Fusion_brain_results/99-2.png (deflated 0%)\n",
            "  adding: content/Fusion_brain_results/27-1.png (deflated 0%)\n",
            "  adding: content/Fusion_brain_results/33-2.png (deflated 0%)\n",
            "  adding: content/Fusion_brain_results/105-2.png (deflated 0%)\n",
            "  adding: content/Fusion_brain_results/96-2.png (deflated 0%)\n",
            "  adding: content/Fusion_brain_results/88-2.png (deflated 0%)\n",
            "  adding: content/Fusion_brain_results/97-2.png (deflated 0%)\n",
            "  adding: content/Fusion_brain_results/79-1.png (deflated 0%)\n",
            "  adding: content/Fusion_brain_results/28-2.png (deflated 0%)\n",
            "  adding: content/Fusion_brain_results/150-1.png (deflated 0%)\n",
            "  adding: content/Fusion_brain_results/54-1.png (deflated 0%)\n",
            "  adding: content/Fusion_brain_results/25-1.png (deflated 0%)\n",
            "  adding: content/Fusion_brain_results/136-1.png (deflated 0%)\n",
            "  adding: content/Fusion_brain_results/94-1.png (deflated 0%)\n",
            "  adding: content/Fusion_brain_results/123-2.png (deflated 0%)\n",
            "  adding: content/Fusion_brain_results/90-1.png (deflated 0%)\n",
            "  adding: content/Fusion_brain_results/127-1.png (deflated 0%)\n",
            "  adding: content/Fusion_brain_results/148-2.png (deflated 0%)\n",
            "  adding: content/Fusion_brain_results/76-2.png (deflated 0%)\n",
            "  adding: content/Fusion_brain_results/39-1.png (deflated 0%)\n",
            "  adding: content/Fusion_brain_results/116-2.png (deflated 0%)\n",
            "  adding: content/Fusion_brain_results/78-1.png (deflated 0%)\n",
            "  adding: content/Fusion_brain_results/17-1.png (deflated 0%)\n",
            "  adding: content/Fusion_brain_results/129-2.png (deflated 0%)\n",
            "  adding: content/Fusion_brain_results/74-1.png (deflated 0%)\n",
            "  adding: content/Fusion_brain_results/93-1.png (deflated 0%)\n",
            "  adding: content/Fusion_brain_results/28-1.png (deflated 0%)\n",
            "  adding: content/Fusion_brain_results/146-2.png (deflated 0%)\n",
            "  adding: content/Fusion_brain_results/113-1.png (deflated 0%)\n",
            "  adding: content/Fusion_brain_results/82-2.png (deflated 0%)\n",
            "  adding: content/Fusion_brain_results/120-1.png (deflated 0%)\n",
            "  adding: content/Fusion_brain_results/114-1.png (deflated 0%)\n",
            "  adding: content/Fusion_brain_results/63-1.png (deflated 0%)\n",
            "  adding: content/Fusion_brain_results/140-2.png (deflated 0%)\n",
            "  adding: content/Fusion_brain_results/109-1.png (deflated 0%)\n",
            "  adding: content/Fusion_brain_results/71-2.png (deflated 0%)\n",
            "  adding: content/Fusion_brain_results/119-2.png (deflated 0%)\n",
            "  adding: content/Fusion_brain_results/117-2.png (deflated 0%)\n",
            "  adding: content/Fusion_brain_results/59-1.png (deflated 0%)\n",
            "  adding: content/Fusion_brain_results/3-1.png (deflated 0%)\n",
            "  adding: content/Fusion_brain_results/72-1.png (deflated 0%)\n",
            "  adding: content/Fusion_brain_results/91-2.png (deflated 0%)\n",
            "  adding: content/Fusion_brain_results/91-1.png (deflated 0%)\n",
            "  adding: content/Fusion_brain_results/122-1.png (deflated 0%)\n",
            "  adding: content/Fusion_brain_results/6-1.png (deflated 0%)\n",
            "  adding: content/Fusion_brain_results/128-1.png (deflated 0%)\n",
            "  adding: content/Fusion_brain_results/118-2.png (deflated 0%)\n",
            "  adding: content/Fusion_brain_results/62-2.png (deflated 0%)\n",
            "  adding: content/Fusion_brain_results/107-1.png (deflated 0%)\n",
            "  adding: content/Fusion_brain_results/126-1.png (deflated 0%)\n",
            "  adding: content/Fusion_brain_results/30-1.png (deflated 0%)\n",
            "  adding: content/Fusion_brain_results/42-2.png (deflated 0%)\n",
            "  adding: content/Fusion_brain_results/20-2.png (deflated 0%)\n",
            "  adding: content/Fusion_brain_results/51-1.png (deflated 0%)\n",
            "  adding: content/Fusion_brain_results/44-1.png (deflated 0%)\n",
            "  adding: content/Fusion_brain_results/29-1.png (deflated 0%)\n",
            "  adding: content/Fusion_brain_results/149-2.png (deflated 0%)\n",
            "  adding: content/Fusion_brain_results/138-2.png (deflated 0%)\n",
            "  adding: content/Fusion_brain_results/133-2.png (deflated 0%)\n",
            "  adding: content/Fusion_brain_results/147-2.png (deflated 0%)\n",
            "  adding: content/Fusion_brain_results/141-1.png (deflated 0%)\n",
            "  adding: content/Fusion_brain_results/149-1.png (deflated 0%)\n",
            "  adding: content/Fusion_brain_results/33-1.png (deflated 0%)\n",
            "  adding: content/Fusion_brain_results/98-1.png (deflated 0%)\n",
            "  adding: content/Fusion_brain_results/124-2.png (deflated 0%)\n",
            "  adding: content/Fusion_brain_results/103-1.png (deflated 0%)\n",
            "  adding: content/Fusion_brain_results/137-1.png (deflated 0%)\n",
            "  adding: content/Fusion_brain_results/119-1.png (deflated 0%)\n",
            "  adding: content/Fusion_brain_results/.ipynb_checkpoints/ (stored 0%)\n",
            "  adding: content/Fusion_brain_results/26-1.png (deflated 1%)\n",
            "  adding: content/Fusion_brain_results/134-1.png (deflated 0%)\n",
            "  adding: content/Fusion_brain_results/145-1.png (deflated 0%)\n",
            "  adding: content/Fusion_brain_results/31-1.png (deflated 0%)\n",
            "  adding: content/Fusion_brain_results/115-2.png (deflated 0%)\n",
            "  adding: content/Fusion_brain_results/9-1.png (deflated 0%)\n",
            "  adding: content/Fusion_brain_results/42-1.png (deflated 0%)\n",
            "  adding: content/Fusion_brain_results/64-1.png (deflated 0%)\n",
            "  adding: content/Fusion_brain_results/34-1.png (deflated 0%)\n",
            "  adding: content/Fusion_brain_results/101-2.png (deflated 0%)\n",
            "  adding: content/Fusion_brain_results/32-2.png (deflated 0%)\n",
            "  adding: content/Fusion_brain_results/23-2.png (deflated 0%)\n",
            "  adding: content/Fusion_brain_results/69-1.png (deflated 0%)\n",
            "  adding: content/Fusion_brain_results/100-2.png (deflated 0%)\n",
            "  adding: content/Fusion_brain_results/135-2.png (deflated 0%)\n",
            "  adding: content/Fusion_brain_results/127-2.png (deflated 0%)\n",
            "  adding: content/Fusion_brain_results/41-1.png (deflated 0%)\n",
            "  adding: content/Fusion_brain_results/125-1.png (deflated 0%)\n",
            "  adding: content/Fusion_brain_results/53-1.png (deflated 0%)\n",
            "  adding: content/Fusion_brain_results/18-1.png (deflated 0%)\n",
            "  adding: content/Fusion_brain_results/85-2.png (deflated 0%)\n",
            "  adding: content/Fusion_brain_results/80-1.png (deflated 0%)\n",
            "  adding: content/Fusion_brain_results/135-1.png (deflated 0%)\n",
            "  adding: content/Fusion_brain_results/44-2.png (deflated 0%)\n",
            "  adding: content/Fusion_brain_results/132-2.png (deflated 0%)\n",
            "  adding: content/Fusion_brain_results/121-1.png (deflated 0%)\n",
            "  adding: content/Fusion_brain_results/112-1.png (deflated 0%)\n",
            "  adding: content/Fusion_brain_results/12-1.png (deflated 0%)\n",
            "  adding: content/Fusion_brain_results/124-1.png (deflated 0%)\n",
            "  adding: content/Fusion_brain_results/19-2.png (deflated 0%)\n",
            "  adding: content/Fusion_brain_results/95-2.png (deflated 0%)\n",
            "  adding: content/Fusion_brain_results/22-1.png (deflated 0%)\n",
            "  adding: content/Fusion_brain_results/35-2.png (deflated 0%)\n",
            "  adding: content/Fusion_brain_results/77-1.png (deflated 0%)\n",
            "  adding: content/Fusion_brain_results/38-1.png (deflated 0%)\n",
            "  adding: content/Fusion_brain_results/143-1.png (deflated 0%)\n",
            "  adding: content/Fusion_brain_results/13-1.png (deflated 0%)\n",
            "  adding: content/Fusion_brain_results/129-1.png (deflated 0%)\n",
            "  adding: content/Fusion_brain_results/102-2.png (deflated 0%)\n",
            "  adding: content/Fusion_brain_results/49-1.png (deflated 0%)\n",
            "  adding: content/Fusion_brain_results/100-1.png (deflated 0%)\n",
            "  adding: content/Fusion_brain_results/76-1.png (deflated 0%)\n",
            "  adding: content/Fusion_brain_results/131-1.png (deflated 0%)\n",
            "  adding: content/Fusion_brain_results/106-1.png (deflated 0%)\n",
            "  adding: content/Fusion_brain_results/64-2.png (deflated 0%)\n",
            "  adding: content/Fusion_brain_results/8-1.png (deflated 0%)\n",
            "  adding: content/Fusion_brain_results/134-2.png (deflated 0%)\n",
            "  adding: content/Fusion_brain_results/98-2.png (deflated 0%)\n",
            "  adding: content/Fusion_brain_results/4-2.png (deflated 0%)\n",
            "  adding: content/Fusion_brain_results/150-2.png (deflated 0%)\n",
            "  adding: content/Fusion_brain_results/67-2.png (deflated 0%)\n",
            "  adding: content/Fusion_brain_results/23-1.png (deflated 0%)\n",
            "  adding: content/Fusion_brain_results/61-2.png (deflated 0%)\n",
            "  adding: content/Fusion_brain_results/85-1.png (deflated 0%)\n",
            "  adding: content/Fusion_brain_results/1-1.png (deflated 0%)\n",
            "  adding: content/Fusion_brain_results/70-2.png (deflated 0%)\n",
            "  adding: content/Fusion_brain_results/7-1.png (deflated 0%)\n",
            "  adding: content/Fusion_brain_results/32-1.png (deflated 0%)\n",
            "  adding: content/Fusion_brain_results/21-1.png (deflated 0%)\n",
            "  adding: content/Fusion_brain_results/36-1.png (deflated 0%)\n",
            "  adding: content/Fusion_brain_results/14-1.png (deflated 0%)\n",
            "  adding: content/Fusion_brain_results/123-1.png (deflated 0%)\n",
            "  adding: content/Fusion_brain_results/66-1.png (deflated 0%)\n",
            "  adding: content/Fusion_brain_results/147-1.png (deflated 0%)\n",
            "  adding: content/Fusion_brain_results/108-1.png (deflated 0%)\n",
            "  adding: content/Fusion_brain_results/103-2.png (deflated 0%)\n",
            "  adding: content/Fusion_brain_results/75-1.png (deflated 0%)\n",
            "  adding: content/Fusion_brain_results/15-1.png (deflated 0%)\n",
            "  adding: content/Fusion_brain_results/84-1.png (deflated 0%)\n",
            "  adding: content/Fusion_brain_results/122-2.png (deflated 0%)\n",
            "  adding: content/Fusion_brain_results/116-1.png (deflated 0%)\n",
            "  adding: content/Fusion_brain_results/132-1.png (deflated 0%)\n",
            "  adding: content/Fusion_brain_results/65-2.png (deflated 0%)\n",
            "  adding: content/Fusion_brain_results/59-2.png (deflated 0%)\n",
            "  adding: content/Fusion_brain_results/92-1.png (deflated 0%)\n",
            "  adding: content/Fusion_brain_results/40-1.png (deflated 0%)\n",
            "  adding: content/Fusion_brain_results/25-2.png (deflated 0%)\n",
            "  adding: content/Fusion_brain_results/128-2.png (deflated 0%)\n",
            "  adding: content/Fusion_brain_results/34-2.png (deflated 0%)\n",
            "  adding: content/Fusion_brain_results/62-1.png (deflated 0%)\n",
            "  adding: content/Fusion_brain_results/48-1.png (deflated 0%)\n",
            "  adding: content/Fusion_brain_results/48-2.png (deflated 0%)\n",
            "  adding: content/Fusion_brain_results/5-2.png (deflated 0%)\n",
            "  adding: content/Fusion_brain_results/11-2.png (deflated 0%)\n",
            "  adding: content/Fusion_brain_results/107-2.png (deflated 0%)\n",
            "  adding: content/Fusion_brain_results/83-2.png (deflated 0%)\n",
            "  adding: content/Fusion_brain_results/80-2.png (deflated 0%)\n",
            "  adding: content/Fusion_brain_results/121-2.png (deflated 0%)\n",
            "  adding: content/Fusion_brain_results/35-1.png (deflated 0%)\n",
            "  adding: content/Fusion_brain_results/40-2.png (deflated 0%)\n",
            "  adding: content/Fusion_brain_results/96-1.png (deflated 0%)\n",
            "  adding: content/Fusion_brain_results/118-1.png (deflated 0%)\n",
            "  adding: content/Fusion_brain_results/104-1.png (deflated 0%)\n",
            "  adding: content/Fusion_brain_results/73-1.png (deflated 0%)\n",
            "  adding: content/Fusion_brain_results/81-2.png (deflated 0%)\n",
            "  adding: content/Fusion_brain_results/87-2.png (deflated 0%)\n",
            "  adding: content/Fusion_brain_results/20-1.png (deflated 0%)\n",
            "  adding: content/Fusion_brain_results/141-2.png (deflated 0%)\n",
            "  adding: content/Fusion_brain_results/37-2.png (deflated 0%)\n",
            "  adding: content/Fusion_brain_results/21-2.png (deflated 0%)\n",
            "  adding: content/Fusion_brain_results/136-2.png (deflated 0%)\n",
            "  adding: content/Fusion_brain_results/60-1.png (deflated 0%)\n",
            "  adding: content/Fusion_brain_results/12-2.png (deflated 0%)\n",
            "  adding: content/Fusion_brain_results/5-1.png (deflated 0%)\n",
            "  adding: content/Fusion_brain_results/106-2.png (deflated 0%)\n",
            "  adding: content/Fusion_brain_results/51-2.png (deflated 0%)\n",
            "  adding: content/Fusion_brain_results/104-2.png (deflated 0%)\n",
            "  adding: content/Fusion_brain_results/90-2.png (deflated 0%)\n",
            "  adding: content/Fusion_brain_results/39-2.png (deflated 0%)\n",
            "  adding: content/Fusion_brain_results/7-2.png (deflated 0%)\n",
            "  adding: content/Fusion_brain_results/133-1.png (deflated 0%)\n",
            "  adding: content/Fusion_brain_results/37-1.png (deflated 0%)\n",
            "  adding: content/Fusion_brain_results/53-2.png (deflated 0%)\n",
            "  adding: content/Fusion_brain_results/99-1.png (deflated 0%)\n",
            "  adding: content/Fusion_brain_results/1-2.png (deflated 0%)\n",
            "  adding: content/Fusion_brain_results/11-1.png (deflated 0%)\n",
            "  adding: content/Fusion_brain_results/6-2.png (deflated 0%)\n",
            "  adding: content/Fusion_brain_results/72-2.png (deflated 0%)\n",
            "  adding: content/Fusion_brain_results/137-2.png (deflated 0%)\n",
            "  adding: content/Fusion_brain_results/139-2.png (deflated 0%)\n",
            "  adding: content/Fusion_brain_results/105-1.png (deflated 0%)\n",
            "  adding: content/Fusion_brain_results/38-2.png (deflated 0%)\n",
            "  adding: content/Fusion_brain_results/109-2.png (deflated 0%)\n",
            "  adding: content/Fusion_brain_results/8-2.png (deflated 0%)\n",
            "  adding: content/Fusion_brain_results/3-2.png (deflated 0%)\n"
          ]
        }
      ]
    },
    {
      "cell_type": "code",
      "source": [],
      "metadata": {
        "id": "v8bioWmJFxNe"
      },
      "execution_count": null,
      "outputs": []
    }
  ]
}